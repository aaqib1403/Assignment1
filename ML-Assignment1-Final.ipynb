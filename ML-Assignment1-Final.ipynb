{
 "cells": [
  {
   "cell_type": "code",
   "execution_count": 1,
   "id": "c53e9f7d",
   "metadata": {},
   "outputs": [
    {
     "name": "stdout",
     "output_type": "stream",
     "text": [
      "sorted ages list : [19, 19, 20, 22, 24, 24, 24, 25, 25, 26]\n",
      "min age :  19\n",
      "max age :  26\n",
      "sorted ages after adding min and max age :  [19, 19, 20, 22, 24, 24, 24, 25, 25, 26, 19, 26]\n",
      "Median Age :  24.0\n",
      "Average Age :  22.75\n",
      "Range of Age :  7\n"
     ]
    }
   ],
   "source": [
    "### Assignment 1\n",
    "\n",
    "import math\n",
    "### Question 1\n",
    "\n",
    "# The following is a list of 10 students ages:\n",
    "ages = [19, 22, 19, 24, 20, 25, 26, 24, 25, 24]\n",
    "# Sort the list and find the min and max age\n",
    "# sorting list of ages\n",
    "sorted_ages = sorted(ages)\n",
    "print(\"sorted ages list :\", sorted_ages)\n",
    "# finding min age from sorted ages list\n",
    "min_age = min(sorted_ages)\n",
    "print(\"min age : \", min_age)\n",
    "# finding max age from sorted ages list\n",
    "max_age = max(sorted_ages)\n",
    "print(\"max age : \", max_age)\n",
    "\n",
    "# Add the min age and the max age again to the list\n",
    "sorted_ages.extend((min_age, max_age))\n",
    "print(\"sorted ages after adding min and max age : \", sorted_ages)\n",
    "\n",
    "# calculating Median of Ages\n",
    "sorted_ages = sorted(sorted_ages)\n",
    "len_ages = len(sorted_ages)\n",
    "\n",
    "if len_ages % 2 == 0:\n",
    "    # median calculation for list with even items\n",
    "    median_age = (sorted_ages[int(len_ages/2)-1] + sorted_ages[int(len_ages/2)]) / 2\n",
    "else:\n",
    "    # median calculation for list with odd items\n",
    "    median_age = sorted_ages[math.ceil(len_ages/2)]\n",
    "print(\"Median Age : \", median_age)\n",
    "# calculating Average of Ages\n",
    "avg_age = sum(sorted_ages)/len(sorted_ages)\n",
    "print(\"Average Age : \", avg_age)\n",
    "# calculating Range of Ages\n",
    "range_age = max_age - min_age\n",
    "print(\"Range of Age : \", range_age)"
   ]
  },
  {
   "cell_type": "code",
   "execution_count": 2,
   "id": "113a00d3",
   "metadata": {},
   "outputs": [
    {
     "name": "stdout",
     "output_type": "stream",
     "text": [
      "dog dictionary :  {'name': 'puppy', 'color': 'brown', 'breed': 'Labrador', 'legs': 4, 'age': 5}\n",
      "student dictionary :  {'first_name': 'Aaqib Ahmed', 'last_name': 'Shaik', 'gender': 'male', 'age': 25, 'marital status': 'single', 'skills': ['python', 'machine learning', 'Java'], 'country': 'United States', 'city': 'lees summit', 'address': 'Innovation Campus'}\n",
      "type of skills : <class 'list'>\n",
      "updated student skills :  ['python', 'machine learning', 'Java', 'MySql']\n",
      "keys of student dictionary :  ['first_name', 'last_name', 'gender', 'age', 'marital status', 'skills', 'country', 'city', 'address']\n",
      "values of student dictionary :  ['Aaqib Ahmed', 'Shaik', 'male', 25, 'single', ['python', 'machine learning', 'Java', 'MySql'], 'United States', 'lees summit', 'Innovation Campus']\n"
     ]
    }
   ],
   "source": [
    "### Question 2\n",
    "# Create an empty dictionary called dog\n",
    "dog = dict()\n",
    "# Adding data to dog dictionary\n",
    "dog['name'] = 'puppy'\n",
    "dog['color'] = 'brown'\n",
    "dog['breed'] = 'Labrador'\n",
    "dog['legs'] = 4\n",
    "dog['age'] = 5\n",
    "print(\"dog dictionary : \", dog)\n",
    "# creating student dictionary with data\n",
    "student = {\n",
    "    \"first_name\": \"Aaqib Ahmed\",\n",
    "    \"last_name\": \"Shaik\",\n",
    "    \"gender\": \"male\",\n",
    "    \"age\": 25,\n",
    "    \"marital status\": \"single\",\n",
    "    \"skills\": [\"python\", \"machine learning\",\"Java\"],\n",
    "    \"country\": \"United States\",\n",
    "    \"city\": \"lees summit\",\n",
    "    \"address\": \"Innovation Campus\"\n",
    "}\n",
    "print(\"student dictionary : \", student)\n",
    "# length of the student dictionary\n",
    "len_student = len(student)\n",
    "# skills of the student from the dictionary\n",
    "skills = student['skills']\n",
    "# type of skills\n",
    "print(\"type of skills :\",type(skills))\n",
    "# updating student skills\n",
    "student['skills'].extend([\"MySql\"])\n",
    "print(\"updated student skills : \", student[\"skills\"])\n",
    "# keys of student dictionary\n",
    "print(\"keys of student dictionary : \", list(student.keys()))\n",
    "# values of student dictionary\n",
    "print(\"values of student dictionary : \", list(student.values()))"
   ]
  },
  {
   "cell_type": "code",
   "execution_count": 3,
   "id": "dbff5fd7",
   "metadata": {},
   "outputs": [
    {
     "name": "stdout",
     "output_type": "stream",
     "text": [
      "Brothers:  ('Rahil', 'Sohail')\n",
      "Sisters :  ('Ramya', 'Geetha')\n",
      "Siblings:  ('Rahil', 'Sohail', 'Ramya', 'Geetha')\n",
      "Total Siblings :  4\n",
      "Family Members :  ('Rahil', 'Sohail', 'Ramya', 'Geetha', 'Rafi', 'Aneesa')\n"
     ]
    }
   ],
   "source": [
    "## Question 3\n",
    "#A tuple named brothers is declared\n",
    "brothers = (\"Rahil\",\"Sohail\")\n",
    "print(\"Brothers: \",brothers)\n",
    "\n",
    "#A tuple named sister is declared\n",
    "\n",
    "sisters = (\"Ramya\", \"Geetha\")\n",
    "\n",
    "print(\"Sisters : \",sisters)\n",
    "\n",
    "#joining the brothers tuple and sisters tuple to the tuple named siblings\n",
    "\n",
    "siblings = brothers + sisters\n",
    "\n",
    "#Printing the tuple - Siblings\n",
    "print (\"Siblings: \", siblings)\n",
    "\n",
    "#Total number of siblings\n",
    "print(\"Total Siblings : \", len(siblings))\n",
    "\n",
    "#Modifying the tuple value by adding mother and father name\n",
    "\n",
    "H = list(siblings)\n",
    "Father = \"Rafi\"\n",
    "Mother = \"Aneesa\"\n",
    "H.append(Father)\n",
    "H.append(Mother)\n",
    "\n",
    "# Assigning to family members\n",
    "\n",
    "family_members = tuple(H)\n",
    "\n",
    "print(\"Family Members : \",family_members)"
   ]
  },
  {
   "cell_type": "code",
   "execution_count": 4,
   "id": "08dde423",
   "metadata": {},
   "outputs": [
    {
     "name": "stdout",
     "output_type": "stream",
     "text": [
      "length of it_companies set :  7\n",
      "it companies :  {'Microsoft', 'TCS', 'Apple', 'IBM', 'Google', 'Infosys', 'Facebook', 'Amazon', 'Twitter'}\n",
      " remove vs discard : \n",
      "remove deletes the element from the list if not present it returns Key error, \n",
      "discard deleted the element from the list otherwise return None\n",
      "Join of A and B :  {19, 20, 22, 24, 25, 26, 27, 28}\n",
      "Intersection of A and B :  {19, 20, 22, 24, 25, 26}\n",
      "Is A subset of B :  True\n",
      "Is A disjoint of B :  False\n",
      "A union B :  {19, 20, 22, 24, 25, 26, 27, 28}\n",
      "B union A :  {19, 20, 22, 24, 25, 26, 27, 28}\n",
      "set A difference with set B :  {27, 28}\n",
      "Is length of age list same of length of age set :  False\n"
     ]
    }
   ],
   "source": [
    "### Question 4\n",
    "it_companies = {'Facebook', 'Google', 'Microsoft', 'Apple', 'IBM', 'Oracle', 'Amazon'}\n",
    "A = {19, 22, 24, 20, 25, 26}\n",
    "B = {19, 22, 20, 25, 26, 24, 28, 27}\n",
    "age = [22, 19, 24, 25, 26, 24, 25, 24]\n",
    "\n",
    "# length of it_companies set\n",
    "print(\"length of it_companies set : \", len(it_companies))\n",
    "# adding company to it_company\n",
    "it_companies.add(\"Twitter\")\n",
    "# inserting multiple it_companies to the set it_company\n",
    "it_companies.update(['TCS', 'Infosys'])\n",
    "# removing company from it_company\n",
    "it_companies.discard(\"Oracle\")\n",
    "print(\"it companies : \", it_companies)\n",
    "print(\"\"\" remove vs discard : \n",
    "remove deletes the element from the list if not present it returns Key error, \n",
    "discard deleted the element from the list otherwise return None\"\"\")\n",
    "# joining A and B sets\n",
    "print(\"Join of A and B : \", A.union(B))\n",
    "# intersection of A and B sets\n",
    "print(\"Intersection of A and B : \",A.intersection(B))\n",
    "# checking if A is subset of B\n",
    "print(\"Is A subset of B : \", A.issubset(B))\n",
    "# check if A is disjoint of B\n",
    "print(\"Is A disjoint of B : \", A.isdisjoint(B))\n",
    "# A union B and B union A\n",
    "print(\"A union B : \", A.union(B))\n",
    "print(\"B union A : \", B.union(A))\n",
    "# symmetric difference between two sets\n",
    "print(\"set A difference with set B : \",A.symmetric_difference(B))\n",
    "# deleting sets A and B\n",
    "A.clear()\n",
    "B.clear()\n",
    "# converting age list to set\n",
    "set_ages = set(age)\n",
    "# comparing length of list and length of set\n",
    "print(\"Is length of age list same of length of age set : \", len(age) == len(set_ages))"
   ]
  },
  {
   "cell_type": "code",
   "execution_count": 5,
   "id": "ae920a78",
   "metadata": {},
   "outputs": [
    {
     "name": "stdout",
     "output_type": "stream",
     "text": [
      "Area of circle : 2826.0\n",
      "Circumference of circle : 188.4\n",
      "Enter radius of circle : 5\n",
      "Area of circle :  78.5\n"
     ]
    }
   ],
   "source": [
    "### Question 5\n",
    "# The radius of a circle is 30 meters.\n",
    "# radius r\n",
    "r = 30\n",
    "# pi value constant\n",
    "pi = 3.14\n",
    "# calculating area of circle\n",
    "_area_of_circle_ =  pi * r * r\n",
    "print(\"Area of circle :\", _area_of_circle_)\n",
    "# calculating cirumference of circle\n",
    "_circum_of_circle_ = 2 * pi * r\n",
    "print(\"Circumference of circle :\", _circum_of_circle_)\n",
    "\n",
    "# input from user\n",
    "r = float(input(\"Enter radius of circle : \"))\n",
    "# calculating area of circle from user inputs\n",
    "area_of_circle = pi * r * r\n",
    "print(\"Area of circle : \", area_of_circle)"
   ]
  },
  {
   "cell_type": "code",
   "execution_count": 6,
   "id": "e5b7bfad",
   "metadata": {},
   "outputs": [
    {
     "name": "stdout",
     "output_type": "stream",
     "text": [
      "The Given string is :  I am a teacher and I love to inspire and teach people\n",
      "Number of unique words: 10\n",
      "Unique words :  {'teacher', 'inspire', 'to', 'people', 'a', 'teach', 'am', 'I', 'and', 'love'}\n"
     ]
    }
   ],
   "source": [
    "## Question 6\n",
    "\n",
    "#Declaring the string\n",
    "\n",
    "str = \"I am a teacher and I love to inspire and teach people\"\n",
    "\n",
    "print(\"The Given string is : \", str)\n",
    "\n",
    "# Stored the string str in a set using the split() function.\n",
    "\n",
    "Set = set(str.split(\" \"))\n",
    "\n",
    "#finding the number of unique words.\n",
    "\n",
    "print(\"Number of unique words:\", len(Set))\n",
    " \n",
    "#Printing the unique words of a string by printing the set.\n",
    "\n",
    "print(\"Unique words : \", Set)"
   ]
  },
  {
   "cell_type": "code",
   "execution_count": 7,
   "id": "98ca8bde",
   "metadata": {},
   "outputs": [
    {
     "name": "stdout",
     "output_type": "stream",
     "text": [
      "Name \t\t Age \t Country \t City\n",
      "Asabeneh \t 250 \t Finland \t Helsinki\n"
     ]
    }
   ],
   "source": [
    "### Question 7\n",
    "\n",
    "#Printing According to the pattern\n",
    "print(\"Name \\t\\t Age \\t Country \\t City\")\n",
    "print(\"Asabeneh \\t 250 \\t Finland \\t Helsinki\")"
   ]
  },
  {
   "cell_type": "code",
   "execution_count": 8,
   "id": "ecacd515",
   "metadata": {},
   "outputs": [
    {
     "name": "stdout",
     "output_type": "stream",
     "text": [
      "The Area of Circle with radius 10 is 314.0 meters square.\n"
     ]
    }
   ],
   "source": [
    "### Question 8\n",
    "#Using String formatting method\n",
    "\n",
    "radius = 10\n",
    "area = 3.14 * radius ** 2\n",
    "print(\"The Area of Circle with radius {} is {} meters square.\".format(radius,area))"
   ]
  },
  {
   "cell_type": "code",
   "execution_count": 9,
   "id": "44fce00e",
   "metadata": {},
   "outputs": [
    {
     "name": "stdout",
     "output_type": "stream",
     "text": [
      "Enter number of weights : 4\n",
      "14\n",
      "15\n",
      "16\n",
      "17\n",
      "The weights of N students: [14, 15, 16, 17]\n",
      "The weights of N students converted to Kilograms from lbs: [0.0, 0.45359237, 0.90718474, 1.3607771100000001]\n"
     ]
    }
   ],
   "source": [
    "### Question 9\n",
    "\n",
    "#An empty list named l which reads the weights of N students is declared\n",
    "\n",
    "l = []\n",
    "\n",
    "#Taking input from User\n",
    "  \n",
    "n = int(input(\"Enter number of weights : \"))\n",
    "  \n",
    "# Appending the values to list l\n",
    "for i in range(0, n):\n",
    "    ele = int(input())\n",
    "    l.append(ele) # adding the element\n",
    "      \n",
    "print(\"The weights of N students:\", l)\n",
    "\n",
    "#A list named Kg is declared which contains the values converted from lbs to Kilograms\n",
    "\n",
    "kg=[]\n",
    "\n",
    "for i in range(0, n):\n",
    "    ele =0.45359237 * i\n",
    "    kg.append(ele)\n",
    "\n",
    "print(\"The weights of N students converted to Kilograms from lbs:\", kg)"
   ]
  },
  {
   "cell_type": "code",
   "execution_count": null,
   "id": "0293c795",
   "metadata": {},
   "outputs": [],
   "source": []
  }
 ],
 "metadata": {
  "kernelspec": {
   "display_name": "Python 3 (ipykernel)",
   "language": "python",
   "name": "python3"
  },
  "language_info": {
   "codemirror_mode": {
    "name": "ipython",
    "version": 3
   },
   "file_extension": ".py",
   "mimetype": "text/x-python",
   "name": "python",
   "nbconvert_exporter": "python",
   "pygments_lexer": "ipython3",
   "version": "3.11.1"
  }
 },
 "nbformat": 4,
 "nbformat_minor": 5
}
